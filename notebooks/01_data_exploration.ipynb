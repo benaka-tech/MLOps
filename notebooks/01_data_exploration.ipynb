{
 "cells": [
  {
   "cell_type": "markdown",
   "id": "a9f64768",
   "metadata": {},
   "source": [
    "# Customer Churn Prediction - Data Exploration\n",
    "\n",
    "This notebook provides a starting point for exploring your customer churn dataset. Replace the sample data loading section with your own data as needed."
   ]
  },
  {
   "cell_type": "code",
   "execution_count": null,
   "id": "98668705",
   "metadata": {},
   "outputs": [],
   "source": [
    "import pandas as pd\n",
    "import numpy as np\n",
    "import matplotlib.pyplot as plt\n",
    "import seaborn as sns\n",
    "\n",
    "# Load your data (replace with your actual data file)\n",
    "# df = pd.read_csv('../data/your_data.csv')\n",
    "# For demonstration, we create a sample DataFrame\n",
    "df = pd.DataFrame({\n",
    "    'customer_id': range(1, 101),\n",
    "    'tenure_months': np.random.randint(1, 36, 100),\n",
    "    'monthly_charges': np.random.uniform(20, 100, 100),\n",
    "    'total_charges': np.random.uniform(100, 3000, 100),\n",
    "    'churn': np.random.choice([0, 1], 100, p=[0.8, 0.2])\n",
    "})\n",
    "df.head()"
   ]
  },
  {
   "cell_type": "markdown",
   "id": "0dce8851",
   "metadata": {},
   "source": [
    "## Data Overview"
   ]
  },
  {
   "cell_type": "code",
   "execution_count": null,
   "id": "a9c8f6ae",
   "metadata": {},
   "outputs": [],
   "source": [
    "df.info()"
   ]
  },
  {
   "cell_type": "code",
   "execution_count": null,
   "id": "d8928a97",
   "metadata": {},
   "outputs": [],
   "source": [
    "df.describe()"
   ]
  },
  {
   "cell_type": "markdown",
   "id": "4ea368f0",
   "metadata": {},
   "source": [
    "## Churn Distribution"
   ]
  },
  {
   "cell_type": "code",
   "execution_count": null,
   "id": "1048a14f",
   "metadata": {},
   "outputs": [],
   "source": [
    "sns.countplot(x='churn', data=df)\n",
    "plt.title('Churn Distribution')\n",
    "plt.show()"
   ]
  },
  {
   "cell_type": "markdown",
   "id": "b53b38d9",
   "metadata": {},
   "source": [
    "## Feature Correlations"
   ]
  },
  {
   "cell_type": "code",
   "execution_count": null,
   "id": "1a0e0e33",
   "metadata": {},
   "outputs": [],
   "source": [
    "corr = df.corr(numeric_only=True)\n",
    "sns.heatmap(corr, annot=True, cmap='coolwarm')\n",
    "plt.title('Feature Correlation Matrix')\n",
    "plt.show()"
   ]
  }
 ],
 "metadata": {
  "language_info": {
   "name": "python"
  }
 },
 "nbformat": 4,
 "nbformat_minor": 5
}
